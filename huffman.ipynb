{
  "nbformat": 4,
  "nbformat_minor": 0,
  "metadata": {
    "colab": {
      "name": "Untitled1.ipynb",
      "provenance": [],
      "authorship_tag": "ABX9TyOqOFopf/srDsYa33guI44H",
      "include_colab_link": true
    },
    "kernelspec": {
      "name": "python3",
      "display_name": "Python 3"
    },
    "language_info": {
      "name": "python"
    }
  },
  "cells": [
    {
      "cell_type": "markdown",
      "metadata": {
        "id": "view-in-github",
        "colab_type": "text"
      },
      "source": [
        "<a href=\"https://colab.research.google.com/github/tirth412/tirth412/blob/main/huffman.ipynb\" target=\"_parent\"><img src=\"https://colab.research.google.com/assets/colab-badge.svg\" alt=\"Open In Colab\"/></a>"
      ]
    },
    {
      "cell_type": "code",
      "metadata": {
        "colab": {
          "base_uri": "https://localhost:8080/"
        },
        "id": "LTdCOv7OeVGQ",
        "outputId": "b1b01f71-95a7-40ac-abb2-1d7d02dd8efc"
      },
      "source": [
        "#!pip install bitarray\n",
        "from bitarray import bitarray\n",
        "\n",
        "huffman_dict = {\n",
        "    'E': bitarray('0'), 'S': bitarray('10'),\n",
        "    'N': bitarray('111'), 'T': bitarray('110'),\n",
        "    \n",
        "}\n",
        "\n",
        "a = bitarray()\n",
        "a.encode(huffman_dict, 'TENNESSEE')\n",
        "print(a)\n",
        "\n",
        "dec = bitarray(a).decode(huffman_dict)\n",
        "print(dec)\n",
        "print(''.join(dec))"
      ],
      "execution_count": null,
      "outputs": [
        {
          "output_type": "stream",
          "text": [
            "bitarray('11001111110101000')\n",
            "['T', 'E', 'N', 'N', 'E', 'S', 'S', 'E', 'E']\n",
            "TENNESSEE\n"
          ],
          "name": "stdout"
        }
      ]
    },
    {
      "cell_type": "code",
      "metadata": {
        "colab": {
          "base_uri": "https://localhost:8080/"
        },
        "id": "N-5eWPOneglG",
        "outputId": "fa8db0b4-cbec-43e8-df08-5a020d94abed"
      },
      "source": [
        "#!pip install huffman\n",
        "import huffman\n",
        "x = huffman.codebook([('A', 5), ('B', 1), ('C', 6), ('D', 3)])\n",
        "x"
      ],
      "execution_count": 3,
      "outputs": [
        {
          "output_type": "execute_result",
          "data": {
            "text/plain": [
              "{'A': '11', 'B': '100', 'C': '0', 'D': '101'}"
            ]
          },
          "metadata": {
            "tags": []
          },
          "execution_count": 3
        }
      ]
    }
  ]
}